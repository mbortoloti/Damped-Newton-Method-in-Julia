{
 "cells": [
  {
   "cell_type": "markdown",
   "id": "5b3e5a54-3a38-443e-b31e-4f3144aca259",
   "metadata": {},
   "source": [
    "# Damped Newton Method"
   ]
  },
  {
   "cell_type": "code",
   "execution_count": 5,
   "id": "11f4bca1-3cbb-4d8d-b060-c57953c7c161",
   "metadata": {},
   "outputs": [],
   "source": [
    "using Manifolds, LinearAlgebra"
   ]
  },
  {
   "cell_type": "code",
   "execution_count": null,
   "id": "b65c4e08-b8b7-45e4-b0fd-5a9cf5d06a58",
   "metadata": {},
   "outputs": [],
   "source": [
    "function damped_newton_method(M,P0,f,e_gradf; sigma = 1.e-2, theta = 1.3-1, tol = 1.e-8, maxiter = 1000)\n",
    "\n",
    "    \n",
    "\n",
    "end"
   ]
  },
  {
   "cell_type": "code",
   "execution_count": 2,
   "id": "1a4f990b-50c6-4e83-bd58-fca608f1dab0",
   "metadata": {},
   "outputs": [],
   "source": [
    "using Random"
   ]
  },
  {
   "cell_type": "code",
   "execution_count": 10,
   "id": "ea81fff7-aada-4729-8f1c-e36f460601d3",
   "metadata": {},
   "outputs": [
    {
     "data": {
      "text/plain": [
       "3-element Vector{Float64}:\n",
       " -0.30186321457520243\n",
       "  0.9525775247130328\n",
       "  0.03840129031577897"
      ]
     },
     "execution_count": 10,
     "metadata": {},
     "output_type": "execute_result"
    }
   ],
   "source": [
    "# set dimension\n",
    "n = 3;\n",
    "\n",
    "# Set Manifold\n",
    "M = Sphere(n-1);\n",
    "\n",
    "seed = MersenneTwister(1234);\n",
    "\n",
    "# Identity Matrix\n",
    "I_n = Matrix{Float64}(I,n,n)\n",
    "\n",
    "# Set problem\n",
    "A = rand(n,n)\n",
    "A = A'*A + n * I_n\n",
    "\n",
    "# Rayleigh function\n",
    "f(p) = p' * A *p\n",
    "\n",
    "p0 = Manifolds.rand(seed,M)\n",
    "\n"
   ]
  },
  {
   "cell_type": "code",
   "execution_count": 11,
   "id": "cf6ded4c-87a3-48b9-9de8-1ddf34549ac9",
   "metadata": {},
   "outputs": [
    {
     "data": {
      "text/plain": [
       "1.0"
      ]
     },
     "execution_count": 11,
     "metadata": {},
     "output_type": "execute_result"
    }
   ],
   "source": []
  }
 ],
 "metadata": {
  "kernelspec": {
   "display_name": "Julia 1.11.5",
   "language": "julia",
   "name": "julia-1.11"
  },
  "language_info": {
   "file_extension": ".jl",
   "mimetype": "application/julia",
   "name": "julia",
   "version": "1.11.5"
  }
 },
 "nbformat": 4,
 "nbformat_minor": 5
}
